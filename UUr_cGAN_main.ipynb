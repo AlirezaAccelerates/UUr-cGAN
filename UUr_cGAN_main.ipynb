{
  "nbformat": 4,
  "nbformat_minor": 0,
  "metadata": {
    "accelerator": "GPU",
    "colab": {
      "name": "UUr-cGAN_main.ipynb",
      "provenance": [],
      "collapsed_sections": []
    },
    "kernelspec": {
      "display_name": "Python 3",
      "name": "python3"
    }
  },
  "cells": [
    {
      "cell_type": "code",
      "metadata": {
        "id": "800lluADMR_f"
      },
      "source": [
        "from helper import *\n",
        "from cGAN import *\n",
        "from discriminator import *\n",
        "from generator import *\n",
        "import numpy as np"
      ],
      "execution_count": null,
      "outputs": []
    },
    {
      "cell_type": "code",
      "metadata": {
        "id": "ht8p2FKDud62"
      },
      "source": [
        "# Load dataset\n",
        "\n",
        "path = '/dataset/'\n",
        "x1 = np.load(path + 'v1.npy')\n",
        "y1 = np.load(path + 'v1_seg.npy')\n",
        "x2 = np.load(path + 'v2.npy')\n",
        "y2 = np.load(path + 'v2_seg.npy')\n",
        "x3 = np.load(path + 'v3.npy')\n",
        "y3 = np.load(path + 'v3_seg.npy')\n",
        "x4 = np.load(path + 'v4.npy')\n",
        "y4 = np.load(path + 'v4_seg.npy')\n"
      ],
      "execution_count": null,
      "outputs": []
    },
    {
      "cell_type": "code",
      "metadata": {
        "id": "h8N_se4aZ0kZ"
      },
      "source": [
        "x_train = np.concatenate((x1, x2, x3))\n",
        "y_train = np.concatenate((y1, y2, y3))\n",
        "x_test = x4.copy()\n",
        "y_test = y4.copy()\n",
        "\n",
        "x_train = x_train.reshape(x_train.shape[0], x_train.shape[1], x_train.shape[2], 1)\n",
        "y_train = y_train.reshape(y_train.shape[0], y_train.shape[1], y_train.shape[2], 1)\n",
        "x_test = x_test.reshape(x_test.shape[0], x_test.shape[1], x_test.shape[2], 1)\n",
        "y_test = y_test.reshape(y_test.shape[0], y_test.shape[1], y_test.shape[2], 1)\n",
        "\n",
        "print(x_train.shape)\n",
        "print(y_train.shape)\n",
        "print(x_test.shape)\n",
        "print(y_test.shape)"
      ],
      "execution_count": null,
      "outputs": []
    },
    {
      "cell_type": "code",
      "metadata": {
        "id": "oaoG1028z0N4"
      },
      "source": [
        "rawGen1, labGen1 = zoom(x_train, y_train, 1)\n",
        "rawGen2, labGen2 = flip(x_train, y_train)\n",
        "x_train = np.concatenate([rawGen1, rawGen2, x_train])\n",
        "y_train = np.concatenate([labGen1, labGen2, y_train])\n",
        "\n",
        "x_train = np.concatenate([rawGen2, x_train])\n",
        "y_train = np.concatenate([labGen2, y_train])\n",
        "\n",
        "x_train, y_train = shuffle(x_train, y_train)\n",
        "\n",
        "print(x_train.shape)\n",
        "print(y_train.shape)"
      ],
      "execution_count": null,
      "outputs": []
    },
    {
      "cell_type": "code",
      "metadata": {
        "id": "92kv9VidFewL"
      },
      "source": [
        "\n",
        "x_train = (x_train - (x_train.max()/2)) / (x_train.max()/2)\n",
        "y_train = (y_train - (y_train.max()/2)) / (y_train.max()/2)\n",
        "\n",
        "print(x_train.min())\n",
        "print(x_train.max())\n",
        "print(y_train.min())\n",
        "print(y_train.max())\n",
        "\n",
        "x_test = (x_test - (x_test.max()/2)) / (x_test.max()/2)\n",
        "y_test = (y_test - (y_test.max()/2)) / (y_test.max()/2)\n",
        "\n",
        "print(x_test.min())\n",
        "print(x_test.max())\n",
        "print(y_test.min())\n",
        "print(y_test.max())"
      ],
      "execution_count": null,
      "outputs": []
    },
    {
      "cell_type": "code",
      "metadata": {
        "id": "UprUEXn0PwaC"
      },
      "source": [
        "model = cGAN(save_path = '/')\n",
        "model.build(lr = 0.0002, dropG = 0.1, dropD = 0.1)"
      ],
      "execution_count": null,
      "outputs": []
    },
    {
      "cell_type": "code",
      "metadata": {
        "id": "4sFMg7XyEKUE"
      },
      "source": [
        "model.train(dataset = [x_train, y_train], val_dataset = [x_test, y_test], n_epochs = 100, n_batch = 10)"
      ],
      "execution_count": null,
      "outputs": []
    },
    {
      "cell_type": "code",
      "metadata": {
        "id": "dP2c5ZNFTgnq"
      },
      "source": [
        "def np2ni(stack, path = '', fname = 'out_vol'):\n",
        "\n",
        "    img = nib.Nifti1Image(stack, np.eye(4))\n",
        "    nib.save(img, path + fname + '.nii.gz')\n",
        "\n",
        "    return\n",
        "\n",
        "pred = model.gModel.predict(x_test)\n",
        "np2ni(pred)"
      ],
      "execution_count": null,
      "outputs": []
    }
  ]
}